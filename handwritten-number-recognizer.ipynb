{
 "cells": [
  {
   "cell_type": "code",
   "execution_count": 1,
   "id": "bc383de2",
   "metadata": {
    "_cell_guid": "b1076dfc-b9ad-4769-8c92-a6c4dae69d19",
    "_uuid": "8f2839f25d086af736a60e9eeb907d3b93b6e0e5",
    "execution": {
     "iopub.execute_input": "2024-10-21T03:51:31.955438Z",
     "iopub.status.busy": "2024-10-21T03:51:31.954692Z",
     "iopub.status.idle": "2024-10-21T03:51:33.185140Z",
     "shell.execute_reply": "2024-10-21T03:51:33.184185Z"
    },
    "papermill": {
     "duration": 1.239224,
     "end_time": "2024-10-21T03:51:33.187592",
     "exception": false,
     "start_time": "2024-10-21T03:51:31.948368",
     "status": "completed"
    },
    "tags": []
   },
   "outputs": [
    {
     "name": "stdout",
     "output_type": "stream",
     "text": [
      "/kaggle/input/digit-recognizer/sample_submission.csv\n",
      "/kaggle/input/digit-recognizer/train.csv\n",
      "/kaggle/input/digit-recognizer/test.csv\n",
      "/kaggle/input/pm-67807825-at-10-21-2024-03-48-54/__script__.py\n",
      "/kaggle/input/pm-67807825-at-10-21-2024-03-48-54/cachetools-5.5.0-py3-none-any.whl\n",
      "/kaggle/input/pm-67807825-at-10-21-2024-03-48-54/MarkupSafe-3.0.2-cp310-cp310-manylinux_2_17_x86_64.manylinux2014_x86_64.whl\n",
      "/kaggle/input/pm-67807825-at-10-21-2024-03-48-54/gast-0.4.0-py3-none-any.whl\n",
      "/kaggle/input/pm-67807825-at-10-21-2024-03-48-54/wrapt-1.16.0-cp310-cp310-manylinux_2_5_x86_64.manylinux1_x86_64.manylinux_2_17_x86_64.manylinux2014_x86_64.whl\n",
      "/kaggle/input/pm-67807825-at-10-21-2024-03-48-54/pyasn1-0.6.1-py3-none-any.whl\n",
      "/kaggle/input/pm-67807825-at-10-21-2024-03-48-54/keras-2.9.0-py2.py3-none-any.whl\n",
      "/kaggle/input/pm-67807825-at-10-21-2024-03-48-54/tensorflow-2.9.1-cp310-cp310-manylinux_2_17_x86_64.manylinux2014_x86_64.whl\n",
      "/kaggle/input/pm-67807825-at-10-21-2024-03-48-54/oauthlib-3.2.2-py3-none-any.whl\n",
      "/kaggle/input/pm-67807825-at-10-21-2024-03-48-54/tensorboard-2.9.1-py3-none-any.whl\n",
      "/kaggle/input/pm-67807825-at-10-21-2024-03-48-54/absl_py-2.1.0-py3-none-any.whl\n",
      "/kaggle/input/pm-67807825-at-10-21-2024-03-48-54/six-1.16.0-py2.py3-none-any.whl\n",
      "/kaggle/input/pm-67807825-at-10-21-2024-03-48-54/setuptools-75.2.0-py3-none-any.whl\n",
      "/kaggle/input/pm-67807825-at-10-21-2024-03-48-54/protobuf-3.19.6-cp310-cp310-manylinux_2_17_x86_64.manylinux2014_x86_64.whl\n",
      "/kaggle/input/pm-67807825-at-10-21-2024-03-48-54/__results__.html\n",
      "/kaggle/input/pm-67807825-at-10-21-2024-03-48-54/tensorboard_data_server-0.6.1-py3-none-manylinux2010_x86_64.whl\n",
      "/kaggle/input/pm-67807825-at-10-21-2024-03-48-54/tensorboard_plugin_wit-1.8.1-py3-none-any.whl\n",
      "/kaggle/input/pm-67807825-at-10-21-2024-03-48-54/grpcio-1.67.0-cp310-cp310-manylinux_2_17_x86_64.manylinux2014_x86_64.whl\n",
      "/kaggle/input/pm-67807825-at-10-21-2024-03-48-54/tensorflow_estimator-2.9.0-py2.py3-none-any.whl\n",
      "/kaggle/input/pm-67807825-at-10-21-2024-03-48-54/requests_oauthlib-2.0.0-py2.py3-none-any.whl\n",
      "/kaggle/input/pm-67807825-at-10-21-2024-03-48-54/idna-3.10-py3-none-any.whl\n",
      "/kaggle/input/pm-67807825-at-10-21-2024-03-48-54/flatbuffers-1.12-py2.py3-none-any.whl\n",
      "/kaggle/input/pm-67807825-at-10-21-2024-03-48-54/google_auth-2.35.0-py2.py3-none-any.whl\n",
      "/kaggle/input/pm-67807825-at-10-21-2024-03-48-54/google_pasta-0.2.0-py3-none-any.whl\n",
      "/kaggle/input/pm-67807825-at-10-21-2024-03-48-54/input_requirements.txt\n",
      "/kaggle/input/pm-67807825-at-10-21-2024-03-48-54/Keras_Preprocessing-1.1.2-py2.py3-none-any.whl\n",
      "/kaggle/input/pm-67807825-at-10-21-2024-03-48-54/pyasn1_modules-0.4.1-py3-none-any.whl\n",
      "/kaggle/input/pm-67807825-at-10-21-2024-03-48-54/tensorflow_io_gcs_filesystem-0.37.1-cp310-cp310-manylinux_2_17_x86_64.manylinux2014_x86_64.whl\n",
      "/kaggle/input/pm-67807825-at-10-21-2024-03-48-54/h5py-3.12.1-cp310-cp310-manylinux_2_17_x86_64.manylinux2014_x86_64.whl\n",
      "/kaggle/input/pm-67807825-at-10-21-2024-03-48-54/termcolor-2.5.0-py3-none-any.whl\n",
      "/kaggle/input/pm-67807825-at-10-21-2024-03-48-54/certifi-2024.8.30-py3-none-any.whl\n",
      "/kaggle/input/pm-67807825-at-10-21-2024-03-48-54/astunparse-1.6.3-py2.py3-none-any.whl\n",
      "/kaggle/input/pm-67807825-at-10-21-2024-03-48-54/__script__.ipynb\n",
      "/kaggle/input/pm-67807825-at-10-21-2024-03-48-54/rsa-4.9-py3-none-any.whl\n",
      "/kaggle/input/pm-67807825-at-10-21-2024-03-48-54/wheel-0.44.0-py3-none-any.whl\n",
      "/kaggle/input/pm-67807825-at-10-21-2024-03-48-54/packaging-24.1-py3-none-any.whl\n",
      "/kaggle/input/pm-67807825-at-10-21-2024-03-48-54/requests-2.32.3-py3-none-any.whl\n",
      "/kaggle/input/pm-67807825-at-10-21-2024-03-48-54/__output__.json\n",
      "/kaggle/input/pm-67807825-at-10-21-2024-03-48-54/libclang-18.1.1-py2.py3-none-manylinux2010_x86_64.whl\n",
      "/kaggle/input/pm-67807825-at-10-21-2024-03-48-54/urllib3-2.2.3-py3-none-any.whl\n",
      "/kaggle/input/pm-67807825-at-10-21-2024-03-48-54/typing_extensions-4.12.2-py3-none-any.whl\n",
      "/kaggle/input/pm-67807825-at-10-21-2024-03-48-54/numpy-2.1.2-cp310-cp310-manylinux_2_17_x86_64.manylinux2014_x86_64.whl\n",
      "/kaggle/input/pm-67807825-at-10-21-2024-03-48-54/werkzeug-3.0.4-py3-none-any.whl\n",
      "/kaggle/input/pm-67807825-at-10-21-2024-03-48-54/opt_einsum-3.4.0-py3-none-any.whl\n",
      "/kaggle/input/pm-67807825-at-10-21-2024-03-48-54/install_requirements.sh\n",
      "/kaggle/input/pm-67807825-at-10-21-2024-03-48-54/Markdown-3.7-py3-none-any.whl\n",
      "/kaggle/input/pm-67807825-at-10-21-2024-03-48-54/google_auth_oauthlib-0.4.6-py2.py3-none-any.whl\n",
      "/kaggle/input/pm-67807825-at-10-21-2024-03-48-54/charset_normalizer-3.4.0-cp310-cp310-manylinux_2_17_x86_64.manylinux2014_x86_64.whl\n",
      "/kaggle/input/pm-67807825-at-10-21-2024-03-48-54/custom.css\n"
     ]
    }
   ],
   "source": [
    "# This Python 3 environment comes with many helpful analytics libraries installed\n",
    "# It is defined by the kaggle/python Docker image: https://github.com/kaggle/docker-python\n",
    "# For example, here's several helpful packages to load\n",
    "\n",
    "import numpy as np # linear algebra\n",
    "import pandas as pd # data processing, CSV file I/O (e.g. pd.read_csv)\n",
    "\n",
    "# Input data files are available in the read-only \"../input/\" directory\n",
    "# For example, running this (by clicking run or pressing Shift+Enter) will list all files under the input directory\n",
    "\n",
    "import os\n",
    "for dirname, _, filenames in os.walk('/kaggle/input'):\n",
    "    for filename in filenames:\n",
    "        print(os.path.join(dirname, filename))\n",
    "\n",
    "# You can write up to 20GB to the current directory (/kaggle/working/) that gets preserved as output when you create a version using \"Save & Run All\" \n",
    "# You can also write temporary files to /kaggle/temp/, but they won't be saved outside of the current session"
   ]
  },
  {
   "cell_type": "code",
   "execution_count": 2,
   "id": "1686a143",
   "metadata": {
    "execution": {
     "iopub.execute_input": "2024-10-21T03:51:33.198619Z",
     "iopub.status.busy": "2024-10-21T03:51:33.198221Z",
     "iopub.status.idle": "2024-10-21T03:51:41.265006Z",
     "shell.execute_reply": "2024-10-21T03:51:41.263951Z"
    },
    "papermill": {
     "duration": 8.074785,
     "end_time": "2024-10-21T03:51:41.267346",
     "exception": false,
     "start_time": "2024-10-21T03:51:33.192561",
     "status": "completed"
    },
    "tags": []
   },
   "outputs": [
    {
     "name": "stdout",
     "output_type": "stream",
     "text": [
      "2.9.1\n"
     ]
    }
   ],
   "source": [
    "import tensorflow as tf\n",
    "from tensorflow.python import keras\n",
    "from keras.utils import to_categorical\n",
    "from sklearn.model_selection import train_test_split\n",
    "from tensorflow.python.keras.models import Sequential\n",
    "from tensorflow.python.keras.layers import Dense, Flatten, Conv2D, Dropout\n",
    "from keras.preprocessing.image import ImageDataGenerator\n",
    "import matplotlib.pyplot as plt \n",
    "import seaborn as sns\n",
    "print(tf.__version__)"
   ]
  },
  {
   "cell_type": "code",
   "execution_count": 3,
   "id": "70d45e3d",
   "metadata": {
    "execution": {
     "iopub.execute_input": "2024-10-21T03:51:41.278700Z",
     "iopub.status.busy": "2024-10-21T03:51:41.278189Z",
     "iopub.status.idle": "2024-10-21T03:51:47.130626Z",
     "shell.execute_reply": "2024-10-21T03:51:47.129503Z"
    },
    "papermill": {
     "duration": 5.860582,
     "end_time": "2024-10-21T03:51:47.132874",
     "exception": false,
     "start_time": "2024-10-21T03:51:41.272292",
     "status": "completed"
    },
    "tags": []
   },
   "outputs": [
    {
     "data": {
      "text/html": [
       "<div>\n",
       "<style scoped>\n",
       "    .dataframe tbody tr th:only-of-type {\n",
       "        vertical-align: middle;\n",
       "    }\n",
       "\n",
       "    .dataframe tbody tr th {\n",
       "        vertical-align: top;\n",
       "    }\n",
       "\n",
       "    .dataframe thead th {\n",
       "        text-align: right;\n",
       "    }\n",
       "</style>\n",
       "<table border=\"1\" class=\"dataframe\">\n",
       "  <thead>\n",
       "    <tr style=\"text-align: right;\">\n",
       "      <th></th>\n",
       "      <th>label</th>\n",
       "      <th>pixel0</th>\n",
       "      <th>pixel1</th>\n",
       "      <th>pixel2</th>\n",
       "      <th>pixel3</th>\n",
       "      <th>pixel4</th>\n",
       "      <th>pixel5</th>\n",
       "      <th>pixel6</th>\n",
       "      <th>pixel7</th>\n",
       "      <th>pixel8</th>\n",
       "      <th>...</th>\n",
       "      <th>pixel774</th>\n",
       "      <th>pixel775</th>\n",
       "      <th>pixel776</th>\n",
       "      <th>pixel777</th>\n",
       "      <th>pixel778</th>\n",
       "      <th>pixel779</th>\n",
       "      <th>pixel780</th>\n",
       "      <th>pixel781</th>\n",
       "      <th>pixel782</th>\n",
       "      <th>pixel783</th>\n",
       "    </tr>\n",
       "  </thead>\n",
       "  <tbody>\n",
       "    <tr>\n",
       "      <th>0</th>\n",
       "      <td>1</td>\n",
       "      <td>0</td>\n",
       "      <td>0</td>\n",
       "      <td>0</td>\n",
       "      <td>0</td>\n",
       "      <td>0</td>\n",
       "      <td>0</td>\n",
       "      <td>0</td>\n",
       "      <td>0</td>\n",
       "      <td>0</td>\n",
       "      <td>...</td>\n",
       "      <td>0</td>\n",
       "      <td>0</td>\n",
       "      <td>0</td>\n",
       "      <td>0</td>\n",
       "      <td>0</td>\n",
       "      <td>0</td>\n",
       "      <td>0</td>\n",
       "      <td>0</td>\n",
       "      <td>0</td>\n",
       "      <td>0</td>\n",
       "    </tr>\n",
       "    <tr>\n",
       "      <th>1</th>\n",
       "      <td>0</td>\n",
       "      <td>0</td>\n",
       "      <td>0</td>\n",
       "      <td>0</td>\n",
       "      <td>0</td>\n",
       "      <td>0</td>\n",
       "      <td>0</td>\n",
       "      <td>0</td>\n",
       "      <td>0</td>\n",
       "      <td>0</td>\n",
       "      <td>...</td>\n",
       "      <td>0</td>\n",
       "      <td>0</td>\n",
       "      <td>0</td>\n",
       "      <td>0</td>\n",
       "      <td>0</td>\n",
       "      <td>0</td>\n",
       "      <td>0</td>\n",
       "      <td>0</td>\n",
       "      <td>0</td>\n",
       "      <td>0</td>\n",
       "    </tr>\n",
       "    <tr>\n",
       "      <th>2</th>\n",
       "      <td>1</td>\n",
       "      <td>0</td>\n",
       "      <td>0</td>\n",
       "      <td>0</td>\n",
       "      <td>0</td>\n",
       "      <td>0</td>\n",
       "      <td>0</td>\n",
       "      <td>0</td>\n",
       "      <td>0</td>\n",
       "      <td>0</td>\n",
       "      <td>...</td>\n",
       "      <td>0</td>\n",
       "      <td>0</td>\n",
       "      <td>0</td>\n",
       "      <td>0</td>\n",
       "      <td>0</td>\n",
       "      <td>0</td>\n",
       "      <td>0</td>\n",
       "      <td>0</td>\n",
       "      <td>0</td>\n",
       "      <td>0</td>\n",
       "    </tr>\n",
       "    <tr>\n",
       "      <th>3</th>\n",
       "      <td>4</td>\n",
       "      <td>0</td>\n",
       "      <td>0</td>\n",
       "      <td>0</td>\n",
       "      <td>0</td>\n",
       "      <td>0</td>\n",
       "      <td>0</td>\n",
       "      <td>0</td>\n",
       "      <td>0</td>\n",
       "      <td>0</td>\n",
       "      <td>...</td>\n",
       "      <td>0</td>\n",
       "      <td>0</td>\n",
       "      <td>0</td>\n",
       "      <td>0</td>\n",
       "      <td>0</td>\n",
       "      <td>0</td>\n",
       "      <td>0</td>\n",
       "      <td>0</td>\n",
       "      <td>0</td>\n",
       "      <td>0</td>\n",
       "    </tr>\n",
       "    <tr>\n",
       "      <th>4</th>\n",
       "      <td>0</td>\n",
       "      <td>0</td>\n",
       "      <td>0</td>\n",
       "      <td>0</td>\n",
       "      <td>0</td>\n",
       "      <td>0</td>\n",
       "      <td>0</td>\n",
       "      <td>0</td>\n",
       "      <td>0</td>\n",
       "      <td>0</td>\n",
       "      <td>...</td>\n",
       "      <td>0</td>\n",
       "      <td>0</td>\n",
       "      <td>0</td>\n",
       "      <td>0</td>\n",
       "      <td>0</td>\n",
       "      <td>0</td>\n",
       "      <td>0</td>\n",
       "      <td>0</td>\n",
       "      <td>0</td>\n",
       "      <td>0</td>\n",
       "    </tr>\n",
       "  </tbody>\n",
       "</table>\n",
       "<p>5 rows × 785 columns</p>\n",
       "</div>"
      ],
      "text/plain": [
       "   label  pixel0  pixel1  pixel2  pixel3  pixel4  pixel5  pixel6  pixel7  \\\n",
       "0      1       0       0       0       0       0       0       0       0   \n",
       "1      0       0       0       0       0       0       0       0       0   \n",
       "2      1       0       0       0       0       0       0       0       0   \n",
       "3      4       0       0       0       0       0       0       0       0   \n",
       "4      0       0       0       0       0       0       0       0       0   \n",
       "\n",
       "   pixel8  ...  pixel774  pixel775  pixel776  pixel777  pixel778  pixel779  \\\n",
       "0       0  ...         0         0         0         0         0         0   \n",
       "1       0  ...         0         0         0         0         0         0   \n",
       "2       0  ...         0         0         0         0         0         0   \n",
       "3       0  ...         0         0         0         0         0         0   \n",
       "4       0  ...         0         0         0         0         0         0   \n",
       "\n",
       "   pixel780  pixel781  pixel782  pixel783  \n",
       "0         0         0         0         0  \n",
       "1         0         0         0         0  \n",
       "2         0         0         0         0  \n",
       "3         0         0         0         0  \n",
       "4         0         0         0         0  \n",
       "\n",
       "[5 rows x 785 columns]"
      ]
     },
     "execution_count": 3,
     "metadata": {},
     "output_type": "execute_result"
    }
   ],
   "source": [
    "train_size = 30000\n",
    "train = pd.read_csv(\"/kaggle/input/digit-recognizer/train.csv\")\n",
    "test = pd.read_csv(\"/kaggle/input/digit-recognizer/test.csv\")\n",
    "train.head()\n"
   ]
  },
  {
   "cell_type": "code",
   "execution_count": 4,
   "id": "650f1cb7",
   "metadata": {
    "execution": {
     "iopub.execute_input": "2024-10-21T03:51:47.145712Z",
     "iopub.status.busy": "2024-10-21T03:51:47.145378Z",
     "iopub.status.idle": "2024-10-21T03:51:47.149557Z",
     "shell.execute_reply": "2024-10-21T03:51:47.148741Z"
    },
    "papermill": {
     "duration": 0.012418,
     "end_time": "2024-10-21T03:51:47.151490",
     "exception": false,
     "start_time": "2024-10-21T03:51:47.139072",
     "status": "completed"
    },
    "tags": []
   },
   "outputs": [],
   "source": [
    "img_rows, img_cols = 28, 28 # each one is 28 pixel by 28 pixel (784 pixels)\n",
    "num_classes = 10 #no. of target values 0 to 9 \"labels\""
   ]
  },
  {
   "cell_type": "code",
   "execution_count": 5,
   "id": "fbcad756",
   "metadata": {
    "execution": {
     "iopub.execute_input": "2024-10-21T03:51:47.163508Z",
     "iopub.status.busy": "2024-10-21T03:51:47.162676Z",
     "iopub.status.idle": "2024-10-21T03:51:47.767225Z",
     "shell.execute_reply": "2024-10-21T03:51:47.766254Z"
    },
    "papermill": {
     "duration": 0.613369,
     "end_time": "2024-10-21T03:51:47.769751",
     "exception": false,
     "start_time": "2024-10-21T03:51:47.156382",
     "status": "completed"
    },
    "tags": []
   },
   "outputs": [],
   "source": [
    "\n",
    "# Separate features and labels from the training data\n",
    "x = train.drop(columns=['label']).values  # Features (pixel values)\n",
    "y = train['label'].values  # Labels (digits 0–9)\n",
    "\n",
    "# Reshape the feature data to (num_samples, 28, 28, 1) for CNN\n",
    "x = x.reshape(-1, img_rows, img_cols, 1)\n",
    "\n",
    "# One-hot encode the labels\n",
    "y = to_categorical(y, num_classes)\n",
    "\n",
    "# Normalize the pixel values (from 0 to 255) to (0 to 1)\n",
    "x = x / 255\n",
    "\n",
    "# Split the training data into train and validation sets\n",
    "x_train, x_val, y_train, y_val = train_test_split(x, y, test_size=0.2, random_state=42)\n"
   ]
  },
  {
   "cell_type": "markdown",
   "id": "03d71f21",
   "metadata": {
    "papermill": {
     "duration": 0.005217,
     "end_time": "2024-10-21T03:51:47.780652",
     "exception": false,
     "start_time": "2024-10-21T03:51:47.775435",
     "status": "completed"
    },
    "tags": []
   },
   "source": [
    "### Why `Sequential`? \n",
    "**Simple architecture**: If your model can be built by stacking layers without complex branching or skipping connections (like in more advanced architectures), `Sequential` is ideal.\\\n",
    "**Straightforward**: It's easy to use and requires fewer lines of code for simple architectures."
   ]
  },
  {
   "cell_type": "code",
   "execution_count": 6,
   "id": "6fce66d0",
   "metadata": {
    "execution": {
     "iopub.execute_input": "2024-10-21T03:51:47.792300Z",
     "iopub.status.busy": "2024-10-21T03:51:47.792011Z",
     "iopub.status.idle": "2024-10-21T04:02:37.611861Z",
     "shell.execute_reply": "2024-10-21T04:02:37.610965Z"
    },
    "papermill": {
     "duration": 649.828142,
     "end_time": "2024-10-21T04:02:37.613776",
     "exception": false,
     "start_time": "2024-10-21T03:51:47.785634",
     "status": "completed"
    },
    "tags": []
   },
   "outputs": [
    {
     "name": "stdout",
     "output_type": "stream",
     "text": [
      "Epoch 1/10\n",
      "328/328 [==============================] - 69s 208ms/step - loss: 0.4588 - accuracy: 0.8544 - val_loss: 0.0751 - val_accuracy: 0.9777\n",
      "Epoch 2/10\n",
      "328/328 [==============================] - 67s 203ms/step - loss: 0.1544 - accuracy: 0.9515 - val_loss: 0.0657 - val_accuracy: 0.9800\n",
      "Epoch 3/10\n",
      "328/328 [==============================] - 65s 199ms/step - loss: 0.1130 - accuracy: 0.9652 - val_loss: 0.0455 - val_accuracy: 0.9851\n",
      "Epoch 4/10\n",
      "328/328 [==============================] - 65s 197ms/step - loss: 0.0966 - accuracy: 0.9701 - val_loss: 0.0422 - val_accuracy: 0.9882\n",
      "Epoch 5/10\n",
      "328/328 [==============================] - 64s 195ms/step - loss: 0.0852 - accuracy: 0.9735 - val_loss: 0.0458 - val_accuracy: 0.9864\n",
      "Epoch 6/10\n",
      "328/328 [==============================] - 64s 196ms/step - loss: 0.0766 - accuracy: 0.9765 - val_loss: 0.0351 - val_accuracy: 0.9889\n",
      "Epoch 7/10\n",
      "328/328 [==============================] - 63s 193ms/step - loss: 0.0691 - accuracy: 0.9779 - val_loss: 0.0369 - val_accuracy: 0.9889\n",
      "Epoch 8/10\n",
      "328/328 [==============================] - 64s 193ms/step - loss: 0.0672 - accuracy: 0.9793 - val_loss: 0.0346 - val_accuracy: 0.9886\n",
      "Epoch 9/10\n",
      "328/328 [==============================] - 64s 196ms/step - loss: 0.0659 - accuracy: 0.9791 - val_loss: 0.0298 - val_accuracy: 0.9910\n",
      "Epoch 10/10\n",
      "328/328 [==============================] - 64s 194ms/step - loss: 0.0560 - accuracy: 0.9822 - val_loss: 0.0278 - val_accuracy: 0.9910\n"
     ]
    },
    {
     "data": {
      "text/plain": [
       "<tensorflow.python.keras.callbacks.History at 0x79587e4a0460>"
      ]
     },
     "execution_count": 6,
     "metadata": {},
     "output_type": "execute_result"
    }
   ],
   "source": [
    "# Build the CNN model\n",
    "# The Sequential() model is used when you want to stack multiple layers in order. \n",
    "# Each layer is added on top of the previous one using model.add()\n",
    "model = Sequential()\n",
    "# First we start with two convolutional layers \"Conv2D\"\n",
    "\n",
    "# \"32\" is the no. of filters we use which defines how many features the convolutional layer will learn from the input data\n",
    "\n",
    "# (3,3) means that the convolutional layer uses a 3x3 filter, \n",
    "# which is a small square matrix that moves across the input image to detect local features such as edges, textures, or patte\n",
    "\n",
    "# \"input_shape=(img_rows, img_cols, 1)\" is represting the hight and width of the image which is 28x28 pixel image \n",
    "# the 1 here ^^ is a refreence to the number of channels since these are grayscale images there is only one channel\n",
    "# But if theyh were RGB ther would be 3 channels ine for each color\n",
    "model.add(Conv2D(32, kernel_size=(3, 3), activation='relu', input_shape=(img_rows, img_cols, 1)))  \n",
    "# A dropout layer is used for each mini-batch would randomly drop 50% of the neurons to prevent overfititng \n",
    "# Which prevents the network from relying too much on specific neurons\n",
    "model.add(Dropout(0.5))\n",
    "# As we go deeper into the network, the model learns more complex and abstract features, \n",
    "#and increasing the number of filters helps the network capture these more intricate details effectively.\n",
    "model.add(Conv2D(64, kernel_size=(3, 3), activation='relu'))  # Increased filters\n",
    "model.add(Dropout(0.5))\n",
    "\n",
    "# Flatten layer comes at the end of convolutional layers before the conncted layers\n",
    "# they turn a 2D array into 1D so here we have a 28x28 it will be converted into a 1D array of 784\n",
    "# We do this because dense layers cant process more than one dimensional like 2D or 3D\n",
    "model.add(Flatten())\n",
    "\n",
    "# 128 indactes the no of neurons in a Dense layer aka \"fully connected layer\"\n",
    "# its a common practice to start with 128 and with trail and error alter it using power of 2 eg. \"28,64,128,256\"\n",
    "# The main purpose of a Dense layer is to combine the features extracted by the convolutional layers and make decisions based on these features\n",
    "model.add(Dense(128, activation='relu'))\n",
    "\n",
    "# this is the output layer. The layer that makes the prediction using softmax activation function\n",
    "# The number of neurons corresponds to the number of possible classes\n",
    "model.add(Dense(num_classes, activation='softmax'))\n",
    "\n",
    "# In this last layer we configure the model for training. It sets the loss function, optimizer, and metrics that the model will use during training and evaluation\n",
    "model.compile(loss=keras.losses.categorical_crossentropy,\n",
    "              optimizer='adam',\n",
    "              metrics=['accuracy'])\n",
    "\n",
    "\n",
    "\n",
    "datagen = ImageDataGenerator(\n",
    "    rotation_range=10,\n",
    "    zoom_range=0.1,\n",
    "    width_shift_range=0.1,\n",
    "    height_shift_range=0.1\n",
    ")\n",
    "datagen.fit(x_train)\n",
    "\n",
    "model.fit(datagen.flow(x_train, y_train, batch_size=128),\n",
    "          validation_data=(x_val, y_val), epochs=10, steps_per_epoch=328)\n",
    "\n",
    "\n",
    "\n"
   ]
  },
  {
   "cell_type": "code",
   "execution_count": 7,
   "id": "a80885c1",
   "metadata": {
    "execution": {
     "iopub.execute_input": "2024-10-21T04:02:38.155534Z",
     "iopub.status.busy": "2024-10-21T04:02:38.155189Z",
     "iopub.status.idle": "2024-10-21T04:02:41.780854Z",
     "shell.execute_reply": "2024-10-21T04:02:41.779445Z"
    },
    "papermill": {
     "duration": 3.897136,
     "end_time": "2024-10-21T04:02:41.783157",
     "exception": false,
     "start_time": "2024-10-21T04:02:37.886021",
     "status": "completed"
    },
    "tags": []
   },
   "outputs": [
    {
     "data": {
      "image/png": "[encoded data removed]",
      "text/plain": [
       "<Figure size 1000x800 with 2 Axes>"
      ]
     },
     "metadata": {},
     "output_type": "display_data"
    },
    {
     "name": "stdout",
     "output_type": "stream",
     "text": [
      "              precision    recall  f1-score   support\n",
      "\n",
      "           0       1.00      0.99      0.99       816\n",
      "           1       1.00      0.99      1.00       909\n",
      "           2       0.98      1.00      0.99       846\n",
      "           3       1.00      0.99      0.99       937\n",
      "           4       1.00      0.98      0.99       839\n",
      "           5       0.98      1.00      0.99       702\n",
      "           6       0.99      0.99      0.99       785\n",
      "           7       0.99      0.98      0.99       893\n",
      "           8       0.98      0.99      0.99       835\n",
      "           9       0.99      0.99      0.99       838\n",
      "\n",
      "    accuracy                           0.99      8400\n",
      "   macro avg       0.99      0.99      0.99      8400\n",
      "weighted avg       0.99      0.99      0.99      8400\n",
      "\n"
     ]
    }
   ],
   "source": [
    "import numpy as np\n",
    "import matplotlib.pyplot as plt\n",
    "import seaborn as sns\n",
    "from sklearn.metrics import confusion_matrix, classification_report\n",
    "\n",
    "# Assuming `model` is your trained model and `x_val`, `y_val` are your validation/test data and true labels\n",
    "\n",
    "# Step 1: Make predictions on the validation or test data\n",
    "y_pred = model.predict(x_val)  # Use validation or test data, not training data\n",
    "y_pred_classes = np.argmax(y_pred, axis=1)  # Convert predicted probabilities to class labels\n",
    "y_true = np.argmax(y_val, axis=1)  # Convert one-hot encoded true labels to class labels\n",
    "\n",
    "# Step 2: Create the confusion matrix\n",
    "cm = confusion_matrix(y_true, y_pred_classes)\n",
    "\n",
    "# Step 3: Plot the confusion matrix\n",
    "plt.figure(figsize=(10, 8))\n",
    "sns.heatmap(cm, annot=True, fmt='d', cmap='Blues', xticklabels=np.arange(10), yticklabels=np.arange(10))\n",
    "plt.xlabel('Predicted Label')\n",
    "plt.ylabel('True Label')\n",
    "plt.title('Confusion Matrix')\n",
    "plt.show()\n",
    "\n",
    "# Step 4: (Optional) Print classification report for more detailed performance metrics\n",
    "print(classification_report(y_true, y_pred_classes))\n"
   ]
  },
  {
   "cell_type": "code",
   "execution_count": 8,
   "id": "0b5143bd",
   "metadata": {
    "execution": {
     "iopub.execute_input": "2024-10-21T04:02:42.342105Z",
     "iopub.status.busy": "2024-10-21T04:02:42.341666Z",
     "iopub.status.idle": "2024-10-21T04:02:42.346453Z",
     "shell.execute_reply": "2024-10-21T04:02:42.345555Z"
    },
    "papermill": {
     "duration": 0.281382,
     "end_time": "2024-10-21T04:02:42.348496",
     "exception": false,
     "start_time": "2024-10-21T04:02:42.067114",
     "status": "completed"
    },
    "tags": []
   },
   "outputs": [],
   "source": [
    "test_data = test.values.reshape(-1, 28, 28, 1)"
   ]
  },
  {
   "cell_type": "code",
   "execution_count": 9,
   "id": "5dcbabcb",
   "metadata": {
    "execution": {
     "iopub.execute_input": "2024-10-21T04:02:42.944346Z",
     "iopub.status.busy": "2024-10-21T04:02:42.943537Z",
     "iopub.status.idle": "2024-10-21T04:02:51.033860Z",
     "shell.execute_reply": "2024-10-21T04:02:51.033080Z"
    },
    "papermill": {
     "duration": 8.41833,
     "end_time": "2024-10-21T04:02:51.036110",
     "exception": false,
     "start_time": "2024-10-21T04:02:42.617780",
     "status": "completed"
    },
    "tags": []
   },
   "outputs": [],
   "source": [
    "\n",
    "predictions = pd.DataFrame(model.predict(test_data))\n"
   ]
  },
  {
   "cell_type": "code",
   "execution_count": 10,
   "id": "af38f23f",
   "metadata": {
    "execution": {
     "iopub.execute_input": "2024-10-21T04:02:51.589131Z",
     "iopub.status.busy": "2024-10-21T04:02:51.588747Z",
     "iopub.status.idle": "2024-10-21T04:02:51.767707Z",
     "shell.execute_reply": "2024-10-21T04:02:51.766411Z"
    },
    "papermill": {
     "duration": 0.45585,
     "end_time": "2024-10-21T04:02:51.771311",
     "exception": false,
     "start_time": "2024-10-21T04:02:51.315461",
     "status": "completed"
    },
    "tags": []
   },
   "outputs": [
    {
     "data": {
      "image/png": "[encoded data removed]",
      "text/plain": [
       "<Figure size 1000x500 with 5 Axes>"
      ]
     },
     "metadata": {},
     "output_type": "display_data"
    }
   ],
   "source": [
    "test_images = test.values\n",
    "\n",
    "images = test_images.reshape(-1, 28, 28)  # Reshape into 28x28 images\n",
    "def plot_images(images, num_images=5):\n",
    "    plt.figure(figsize=(10, 5))  # Set the figure size for better visibility\n",
    "\n",
    "    for i in range(num_images):\n",
    "        plt.subplot(num_images, 1, i + 1)  # Create subplots (num_images rows, 1 column)\n",
    "        plt.imshow(images[i], cmap='gray')  # Display image in grayscale\n",
    "        plt.axis('off')  # Turn off the axis\n",
    "        \n",
    "    plt.show()\n",
    "\n",
    "# Call the function to visualize the first 5 images\n",
    "plot_images(images, num_images=5)\n"
   ]
  },
  {
   "cell_type": "code",
   "execution_count": 11,
   "id": "e1f44836",
   "metadata": {
    "execution": {
     "iopub.execute_input": "2024-10-21T04:02:52.368240Z",
     "iopub.status.busy": "2024-10-21T04:02:52.367396Z",
     "iopub.status.idle": "2024-10-21T04:02:52.386785Z",
     "shell.execute_reply": "2024-10-21T04:02:52.385878Z"
    },
    "papermill": {
     "duration": 0.291747,
     "end_time": "2024-10-21T04:02:52.388819",
     "exception": false,
     "start_time": "2024-10-21T04:02:52.097072",
     "status": "completed"
    },
    "tags": []
   },
   "outputs": [
    {
     "data": {
      "text/html": [
       "<div>\n",
       "<style scoped>\n",
       "    .dataframe tbody tr th:only-of-type {\n",
       "        vertical-align: middle;\n",
       "    }\n",
       "\n",
       "    .dataframe tbody tr th {\n",
       "        vertical-align: top;\n",
       "    }\n",
       "\n",
       "    .dataframe thead th {\n",
       "        text-align: right;\n",
       "    }\n",
       "</style>\n",
       "<table border=\"1\" class=\"dataframe\">\n",
       "  <thead>\n",
       "    <tr style=\"text-align: right;\">\n",
       "      <th></th>\n",
       "      <th>0</th>\n",
       "      <th>1</th>\n",
       "      <th>2</th>\n",
       "      <th>3</th>\n",
       "      <th>4</th>\n",
       "      <th>5</th>\n",
       "      <th>6</th>\n",
       "      <th>7</th>\n",
       "      <th>8</th>\n",
       "      <th>9</th>\n",
       "    </tr>\n",
       "  </thead>\n",
       "  <tbody>\n",
       "    <tr>\n",
       "      <th>0</th>\n",
       "      <td>0.0</td>\n",
       "      <td>0.0</td>\n",
       "      <td>1.0</td>\n",
       "      <td>0.0</td>\n",
       "      <td>0.0</td>\n",
       "      <td>0.0</td>\n",
       "      <td>0.0</td>\n",
       "      <td>0.0</td>\n",
       "      <td>0.0</td>\n",
       "      <td>0.0</td>\n",
       "    </tr>\n",
       "    <tr>\n",
       "      <th>1</th>\n",
       "      <td>1.0</td>\n",
       "      <td>0.0</td>\n",
       "      <td>0.0</td>\n",
       "      <td>0.0</td>\n",
       "      <td>0.0</td>\n",
       "      <td>0.0</td>\n",
       "      <td>0.0</td>\n",
       "      <td>0.0</td>\n",
       "      <td>0.0</td>\n",
       "      <td>0.0</td>\n",
       "    </tr>\n",
       "    <tr>\n",
       "      <th>2</th>\n",
       "      <td>0.0</td>\n",
       "      <td>0.0</td>\n",
       "      <td>0.0</td>\n",
       "      <td>0.0</td>\n",
       "      <td>0.0</td>\n",
       "      <td>0.0</td>\n",
       "      <td>0.0</td>\n",
       "      <td>0.0</td>\n",
       "      <td>0.0</td>\n",
       "      <td>1.0</td>\n",
       "    </tr>\n",
       "    <tr>\n",
       "      <th>3</th>\n",
       "      <td>1.0</td>\n",
       "      <td>0.0</td>\n",
       "      <td>0.0</td>\n",
       "      <td>0.0</td>\n",
       "      <td>0.0</td>\n",
       "      <td>0.0</td>\n",
       "      <td>0.0</td>\n",
       "      <td>0.0</td>\n",
       "      <td>0.0</td>\n",
       "      <td>0.0</td>\n",
       "    </tr>\n",
       "    <tr>\n",
       "      <th>4</th>\n",
       "      <td>0.0</td>\n",
       "      <td>0.0</td>\n",
       "      <td>0.0</td>\n",
       "      <td>1.0</td>\n",
       "      <td>0.0</td>\n",
       "      <td>0.0</td>\n",
       "      <td>0.0</td>\n",
       "      <td>0.0</td>\n",
       "      <td>0.0</td>\n",
       "      <td>0.0</td>\n",
       "    </tr>\n",
       "  </tbody>\n",
       "</table>\n",
       "</div>"
      ],
      "text/plain": [
       "     0    1    2    3    4    5    6    7    8    9\n",
       "0  0.0  0.0  1.0  0.0  0.0  0.0  0.0  0.0  0.0  0.0\n",
       "1  1.0  0.0  0.0  0.0  0.0  0.0  0.0  0.0  0.0  0.0\n",
       "2  0.0  0.0  0.0  0.0  0.0  0.0  0.0  0.0  0.0  1.0\n",
       "3  1.0  0.0  0.0  0.0  0.0  0.0  0.0  0.0  0.0  0.0\n",
       "4  0.0  0.0  0.0  1.0  0.0  0.0  0.0  0.0  0.0  0.0"
      ]
     },
     "execution_count": 11,
     "metadata": {},
     "output_type": "execute_result"
    }
   ],
   "source": [
    "predictions.head()"
   ]
  },
  {
   "cell_type": "code",
   "execution_count": 12,
   "id": "8ea11ee2",
   "metadata": {
    "execution": {
     "iopub.execute_input": "2024-10-21T04:02:52.950474Z",
     "iopub.status.busy": "2024-10-21T04:02:52.949621Z",
     "iopub.status.idle": "2024-10-21T04:02:52.955148Z",
     "shell.execute_reply": "2024-10-21T04:02:52.954263Z"
    },
    "papermill": {
     "duration": 0.286605,
     "end_time": "2024-10-21T04:02:52.957235",
     "exception": false,
     "start_time": "2024-10-21T04:02:52.670630",
     "status": "completed"
    },
    "tags": []
   },
   "outputs": [],
   "source": [
    "predicted_labels = np.argmax(predictions, axis=1)"
   ]
  },
  {
   "cell_type": "code",
   "execution_count": 13,
   "id": "1644b650",
   "metadata": {
    "execution": {
     "iopub.execute_input": "2024-10-21T04:02:53.542199Z",
     "iopub.status.busy": "2024-10-21T04:02:53.541438Z",
     "iopub.status.idle": "2024-10-21T04:02:53.585994Z",
     "shell.execute_reply": "2024-10-21T04:02:53.585075Z"
    },
    "papermill": {
     "duration": 0.319099,
     "end_time": "2024-10-21T04:02:53.587975",
     "exception": false,
     "start_time": "2024-10-21T04:02:53.268876",
     "status": "completed"
    },
    "tags": []
   },
   "outputs": [],
   "source": [
    "image_ids = np.arange(1, len(predicted_labels) + 1)\n",
    "\n",
    "submission_df = pd.DataFrame({\n",
    "    'ImageId': image_ids,\n",
    "    'Label': predicted_labels})\n",
    "    \n",
    "submission_df.to_csv('submission.csv', index=False)"
   ]
  }
 ],
 "metadata": {
  "kaggle": {
   "accelerator": "nvidiaTeslaT4",
   "dataSources": [
    {
     "databundleVersionId": 861823,
     "sourceId": 3004,
     "sourceType": "competition"
    }
   ],
   "dockerImageVersionId": 30786,
   "isGpuEnabled": true,
   "isInternetEnabled": true,
   "language": "python",
   "sourceType": "notebook"
  },
  "kernelspec": {
   "display_name": "Python 3",
   "language": "python",
   "name": "python3"
  },
  "language_info": {
   "codemirror_mode": {
    "name": "ipython",
    "version": 3
   },
   "file_extension": ".py",
   "mimetype": "text/x-python",
   "name": "python",
   "nbconvert_exporter": "python",
   "pygments_lexer": "ipython3",
   "version": "3.10.14"
  },
  "papermill": {
   "default_parameters": {},
   "duration": 688.998015,
   "end_time": "2024-10-21T04:02:56.681533",
   "environment_variables": {},
   "exception": null,
   "input_path": "__notebook__.ipynb",
   "output_path": "__notebook__.ipynb",
   "parameters": {},
   "start_time": "2024-10-21T03:51:27.683518",
   "version": "2.6.0"
  }
 },
 "nbformat": 4,
 "nbformat_minor": 5
}
